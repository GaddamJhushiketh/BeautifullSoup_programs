{
 "cells": [
  {
   "cell_type": "code",
   "execution_count": 31,
   "id": "714e577f-20e6-4a65-b4e1-17d08a897690",
   "metadata": {},
   "outputs": [
    {
     "name": "stdout",
     "output_type": "stream",
     "text": [
      "Requirement already satisfied: bs4 in c:\\users\\gjhus\\appdata\\local\\programs\\python\\python313\\lib\\site-packages (0.0.2)\n",
      "Requirement already satisfied: beautifulsoup4 in c:\\users\\gjhus\\appdata\\local\\programs\\python\\python313\\lib\\site-packages (from bs4) (4.13.0)\n",
      "Requirement already satisfied: soupsieve>1.2 in c:\\users\\gjhus\\appdata\\local\\programs\\python\\python313\\lib\\site-packages (from beautifulsoup4->bs4) (2.6)\n",
      "Requirement already satisfied: typing-extensions in c:\\users\\gjhus\\appdata\\local\\programs\\python\\python313\\lib\\site-packages (from beautifulsoup4->bs4) (4.12.2)\n"
     ]
    }
   ],
   "source": [
    "!pip install bs4"
   ]
  },
  {
   "cell_type": "code",
   "execution_count": 32,
   "id": "d04f8e16-ca59-4d04-ab30-840301185566",
   "metadata": {},
   "outputs": [],
   "source": [
    "from bs4 import BeautifulSoup\n",
    "html_doc=\"\"\"\n",
    "<html>\n",
    "<title>Jhushiketh</title>\n",
    "<body><h2>Hello World</h2>\n",
    "<p class=\"content\">This is a paragraph</p>\n",
    "<p class=\"content\">This is a Good</p>\n",
    "<div id=\"container\">\n",
    "<ul>\n",
    "<li class=\"item\">Item 1</li>\n",
    "<li class=\"item\">Item 2</li>\n",
    "<li class=\"item\">Item 3</li>\n",
    "</ul>\n",
    "</div>\n",
    "<table>\n",
    "<tr><th>Name</th><th>Age</th></tr>\n",
    "<tr><td>Jhushiketh</td><td>18</td></tr>\n",
    "<tr><td>Aakash</td><td>21</td></tr>\n",
    "</table>\n",
    "</body>\n",
    "</html>\"\"\""
   ]
  },
  {
   "cell_type": "code",
   "execution_count": 33,
   "id": "ca9bb442-f38e-4a95-8bdd-a215ee53d751",
   "metadata": {},
   "outputs": [
    {
     "name": "stdout",
     "output_type": "stream",
     "text": [
      "\n",
      "<html>\n",
      "<title>Jhushiketh</title>\n",
      "<body><h2>Hello World</h2>\n",
      "<p class=\"content\">This is a paragraph</p>\n",
      "<p class=\"content\">This is a Good</p>\n",
      "<div id=\"container\">\n",
      "<ul>\n",
      "<li class=\"item\">Item 1</li>\n",
      "<li class=\"item\">Item 2</li>\n",
      "<li class=\"item\">Item 3</li>\n",
      "</ul>\n",
      "</div>\n",
      "<table>\n",
      "<tr><th>Name</th><th>Age</th></tr>\n",
      "<tr><td>Jhushiketh</td><td>18</td></tr>\n",
      "<tr><td>Aakash</td><td>21</td></tr>\n",
      "</table>\n",
      "</body>\n",
      "</html>\n"
     ]
    }
   ],
   "source": [
    "soup=BeautifulSoup(html_doc,\"html.parser\")\n",
    "print(soup)"
   ]
  },
  {
   "cell_type": "code",
   "execution_count": 34,
   "id": "dcb69903-598f-4603-8d0f-b310dea9fbd2",
   "metadata": {},
   "outputs": [
    {
     "name": "stdout",
     "output_type": "stream",
     "text": [
      "\n",
      " Find the firrst paragraph: This is a paragraph\n",
      "\n",
      " Find the firrst paragraph: [<p class=\"content\">This is a paragraph</p>, <p class=\"content\">This is a Good</p>]\n",
      "['This is a paragraph', 'This is a Good']\n"
     ]
    }
   ],
   "source": [
    "#***Findinf Elements****\n",
    "print(\"\\n Find the firrst paragraph:\",(soup.find(\"p\").text)) #First <p> tag\n",
    "print(\"\\n Find the firrst paragraph:\",soup.find_all(\"p\"))  #Finding all Tag\n",
    "x=[]\n",
    "for i in soup.find_all(\"p\"):\n",
    "    x.append(i.text)\n",
    "print(x)"
   ]
  },
  {
   "cell_type": "code",
   "execution_count": 35,
   "id": "340231df-ddd9-4de5-b0e6-be3594e1ae26",
   "metadata": {},
   "outputs": [
    {
     "name": "stdout",
     "output_type": "stream",
     "text": [
      "\n",
      "Using CSS Selection:\n",
      "This is a paragraph\n",
      "This is a Good\n",
      "\n",
      "\n",
      "Item 1\n",
      "Item 2\n",
      "Item 3\n",
      "\n",
      "\n",
      "Item 2\n"
     ]
    }
   ],
   "source": [
    "#***Using CSS Select ***\n",
    "print(\"\\nUsing CSS Selection:\")\n",
    "print(soup.select(\"p\")[0].text) #select by tag\n",
    "print(soup.select(\".content\")[1].text) #Select by class\n",
    "print(soup.select(\"#container\")[0].text) #Select  All item in <ul>\n",
    "print(soup.select(\"#container ul li\")[1].text) #Select Second list item in <ul>"
   ]
  },
  {
   "cell_type": "code",
   "execution_count": 36,
   "id": "443a275b-5cfe-45a3-a77b-01ea1d49371e",
   "metadata": {},
   "outputs": [
    {
     "name": "stdout",
     "output_type": "stream",
     "text": [
      "<table>\n",
      "<tr><th>Name</th><th>Age</th></tr>\n",
      "<tr><td>Jhushiketh</td><td>18</td></tr>\n",
      "<tr><td>Aakash</td><td>21</td></tr>\n",
      "</table>\n"
     ]
    }
   ],
   "source": [
    "x=soup.find(\"table\")\n",
    "print(x)"
   ]
  },
  {
   "cell_type": "code",
   "execution_count": 37,
   "id": "359408ce-7e27-4691-8688-9c68b9ce496b",
   "metadata": {},
   "outputs": [
    {
     "name": "stdout",
     "output_type": "stream",
     "text": [
      "[<tr><th>Name</th><th>Age</th></tr>, <tr><td>Jhushiketh</td><td>18</td></tr>, <tr><td>Aakash</td><td>21</td></tr>]\n"
     ]
    }
   ],
   "source": [
    "y=x.find_all(\"tr\")\n",
    "print(y)"
   ]
  },
  {
   "cell_type": "code",
   "execution_count": 38,
   "id": "b9410b0c-875c-4bb2-b9ce-ab312b3029c6",
   "metadata": {},
   "outputs": [
    {
     "name": "stdout",
     "output_type": "stream",
     "text": [
      "[<th>Name</th>, <th>Age</th>]\n"
     ]
    }
   ],
   "source": [
    "for i in y:\n",
    "    a=i.find_all(\"th\")\n",
    "    print(a)\n",
    "    break"
   ]
  },
  {
   "cell_type": "code",
   "execution_count": 51,
   "id": "5f60cbe1-b683-4e37-af79-ef84e253bf20",
   "metadata": {},
   "outputs": [
    {
     "name": "stdout",
     "output_type": "stream",
     "text": [
      "['Name', 'Age']\n"
     ]
    }
   ],
   "source": [
    "for i in y:\n",
    "    a=i.find_all(\"th\")\n",
    "    b=[]\n",
    "    \"\"\"for j in a:\n",
    "        b.append(j.text)\"\"\"\n",
    "    b=[j.text for j in a]\n",
    "    break\n",
    "print(b)"
   ]
  },
  {
   "cell_type": "code",
   "execution_count": 53,
   "id": "08d7afbd-8d08-4d5b-b7d0-9fde8d7811aa",
   "metadata": {},
   "outputs": [
    {
     "name": "stdout",
     "output_type": "stream",
     "text": [
      "[]\n",
      "['Jhushiketh', '18']\n",
      "['Aakash', '21']\n"
     ]
    }
   ],
   "source": [
    "for k in y:\n",
    "    c= k. find_all(\"td\")\n",
    "    #print(c)\n",
    "    d=[]\n",
    "    for m in c:\n",
    "        d.append(m.text)\n",
    "    print(d)"
   ]
  },
  {
   "cell_type": "code",
   "execution_count": 57,
   "id": "6ff99688-e6cc-4ba3-b1f3-be7822872e03",
   "metadata": {},
   "outputs": [
    {
     "name": "stdout",
     "output_type": "stream",
     "text": [
      "[[]]\n",
      "[[], ['Jhushiketh', '18']]\n",
      "[[], ['Jhushiketh', '18'], ['Aakash', '21']]\n"
     ]
    }
   ],
   "source": [
    "D=[]\n",
    "for k in y:\n",
    "    c= k. find_all(\"td\")\n",
    "    d= []\n",
    "    #print(c)\n",
    "    d=[]\n",
    "    for m in c:\n",
    "        d.append(m.text)\n",
    "    D.append(d)\n",
    "    print(D)"
   ]
  },
  {
   "cell_type": "code",
   "execution_count": 42,
   "id": "637045fc-9a85-4b5e-bd9d-38c6e67a72e4",
   "metadata": {},
   "outputs": [],
   "source": [
    "Dic ={'Name':['A','B','C','D'],'Marks':[9,8,7,9]}\n"
   ]
  },
  {
   "cell_type": "code",
   "execution_count": 58,
   "id": "903e0ba7-3de5-48bd-9e77-85b5587a697c",
   "metadata": {},
   "outputs": [
    {
     "data": {
      "text/html": [
       "<div>\n",
       "<style scoped>\n",
       "    .dataframe tbody tr th:only-of-type {\n",
       "        vertical-align: middle;\n",
       "    }\n",
       "\n",
       "    .dataframe tbody tr th {\n",
       "        vertical-align: top;\n",
       "    }\n",
       "\n",
       "    .dataframe thead th {\n",
       "        text-align: right;\n",
       "    }\n",
       "</style>\n",
       "<table border=\"1\" class=\"dataframe\">\n",
       "  <thead>\n",
       "    <tr style=\"text-align: right;\">\n",
       "      <th></th>\n",
       "      <th>Name</th>\n",
       "      <th>Marks</th>\n",
       "    </tr>\n",
       "  </thead>\n",
       "  <tbody>\n",
       "    <tr>\n",
       "      <th>0</th>\n",
       "      <td>A</td>\n",
       "      <td>9</td>\n",
       "    </tr>\n",
       "    <tr>\n",
       "      <th>1</th>\n",
       "      <td>B</td>\n",
       "      <td>8</td>\n",
       "    </tr>\n",
       "    <tr>\n",
       "      <th>2</th>\n",
       "      <td>C</td>\n",
       "      <td>7</td>\n",
       "    </tr>\n",
       "    <tr>\n",
       "      <th>3</th>\n",
       "      <td>D</td>\n",
       "      <td>9</td>\n",
       "    </tr>\n",
       "  </tbody>\n",
       "</table>\n",
       "</div>"
      ],
      "text/plain": [
       "  Name  Marks\n",
       "0    A      9\n",
       "1    B      8\n",
       "2    C      7\n",
       "3    D      9"
      ]
     },
     "execution_count": 58,
     "metadata": {},
     "output_type": "execute_result"
    }
   ],
   "source": [
    "import pandas as pd\n",
    "df=pd.DataFrame(Dic)\n",
    "df"
   ]
  },
  {
   "cell_type": "code",
   "execution_count": 45,
   "id": "fb57abe2-3665-492f-8d8a-600ce0e0aa3d",
   "metadata": {},
   "outputs": [],
   "source": [
    "df.to_csv('agedata.csv')"
   ]
  },
  {
   "cell_type": "code",
   "execution_count": null,
   "id": "5b73f91b-3cac-47f9-af81-8f4958fb8c98",
   "metadata": {},
   "outputs": [],
   "source": []
  }
 ],
 "metadata": {
  "kernelspec": {
   "display_name": "Python 3 (ipykernel)",
   "language": "python",
   "name": "python3"
  },
  "language_info": {
   "codemirror_mode": {
    "name": "ipython",
    "version": 3
   },
   "file_extension": ".py",
   "mimetype": "text/x-python",
   "name": "python",
   "nbconvert_exporter": "python",
   "pygments_lexer": "ipython3",
   "version": "3.13.0"
  }
 },
 "nbformat": 4,
 "nbformat_minor": 5
}
